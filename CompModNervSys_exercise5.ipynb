{
  "cells": [
    {
      "cell_type": "markdown",
      "metadata": {
        "id": "view-in-github",
        "colab_type": "text"
      },
      "source": [
        "<a href=\"https://colab.research.google.com/github/lw-miles24/5-CompModNervSys-LIFneuron/blob/main/CompModNervSys_exercise5.ipynb\" target=\"_parent\"><img src=\"https://colab.research.google.com/assets/colab-badge.svg\" alt=\"Open In Colab\"/></a>"
      ]
    },
    {
      "cell_type": "markdown",
      "metadata": {
        "id": "tSawaquoIBf9"
      },
      "source": [
        "# BIOL 74.03 (SP23): Computational Modeling of the Nervous System\n",
        "# Exercise 5: Simulating leaky integrate and fire neuron model in NEURON\n",
        "\n",
        "### Exercise goals\n",
        "\n",
        "1) Become familiar with basic functions of NEURON simulator package\n",
        "\n",
        "2) Simulate leaky integrate and fire neuron model in NEURON by adding spiking mechanism to RC neuron model\n",
        "\n",
        "3) Generate and understand frequency–input plot of neuronal excitability\n",
        "\n",
        "Work through the code below, running each cell, adding code where required, and making sure you understand the output. When you see questions with <font color='red'><b><i>Q:</i></b></font> preceding them, write your responses in text cells.\n"
      ]
    },
    {
      "cell_type": "code",
      "execution_count": null,
      "metadata": {
        "id": "VWO7brUSssu7",
        "colab": {
          "base_uri": "https://localhost:8080/"
        },
        "outputId": "fad42bcb-b245-4bbe-ebb7-a719c97d0964"
      },
      "outputs": [
        {
          "output_type": "stream",
          "name": "stdout",
          "text": [
            "Cloning into 'CompModNervSys-LIFneuron'...\n",
            "remote: Enumerating objects: 19, done.\u001b[K\n",
            "remote: Counting objects: 100% (19/19), done.\u001b[K\n",
            "remote: Compressing objects: 100% (14/14), done.\u001b[K\n",
            "remote: Total 19 (delta 6), reused 17 (delta 4), pack-reused 0\u001b[K\n",
            "Receiving objects: 100% (19/19), 98.62 KiB | 1.62 MiB/s, done.\n",
            "Resolving deltas: 100% (6/6), done.\n"
          ]
        }
      ],
      "source": [
        "repo_name = 'CompModNervSys-LIFneuron'\n",
        "if 'google.colab' in str(get_ipython()): # Running on colab\n",
        "    import os\n",
        "    if not os.path.exists(repo_name):\n",
        "        !git clone https://github.com/CompModNervSystem/{repo_name}.git # downloads repository into our Google colab session's file system\n",
        "\n",
        "    os.chdir('/content/' + repo_name)"
      ]
    },
    {
      "cell_type": "markdown",
      "metadata": {
        "id": "y3KdCBeYV2Ij"
      },
      "source": [
        "Since NEURON is an external toolbox (doesn't come prepackaged in Google colab), we'll need to install it at the start of a new session. There are a couple different ways to install python packages, but the easiest is to use the built in package installer `pip`. Normally, this would be done outside of the python environment in a command-line shell environemnt (e.g., from the `Terminal` app on mac/linux or one of the various shell environments on windows). But, we can also do this from within a Jupyter/Colab notebook using the the % sign (aka [magics](https://ipython.readthedocs.io/en/stable/interactive/magics.html)).\n",
        "\n",
        "Run the cell below to install NEURON"
      ]
    },
    {
      "cell_type": "code",
      "execution_count": null,
      "metadata": {
        "id": "U5XP4F2SV2Ij",
        "outputId": "1982e8d1-f167-457c-ee7c-84290cfa7aca",
        "colab": {
          "base_uri": "https://localhost:8080/"
        }
      },
      "outputs": [
        {
          "output_type": "stream",
          "name": "stdout",
          "text": [
            "Collecting neuron\n",
            "  Downloading NEURON-8.2.4-cp310-cp310-manylinux_2_17_x86_64.manylinux2014_x86_64.whl (15.0 MB)\n",
            "\u001b[2K     \u001b[90m━━━━━━━━━━━━━━━━━━━━━━━━━━━━━━━━━━━━━━━━\u001b[0m \u001b[32m15.0/15.0 MB\u001b[0m \u001b[31m25.8 MB/s\u001b[0m eta \u001b[36m0:00:00\u001b[0m\n",
            "\u001b[?25hRequirement already satisfied: numpy>=1.9.3 in /usr/local/lib/python3.10/dist-packages (from neuron) (1.25.2)\n",
            "Requirement already satisfied: packaging in /usr/local/lib/python3.10/dist-packages (from neuron) (24.0)\n",
            "Collecting find-libpython (from neuron)\n",
            "  Downloading find_libpython-0.4.0-py3-none-any.whl (8.7 kB)\n",
            "Requirement already satisfied: setuptools in /usr/local/lib/python3.10/dist-packages (from neuron) (67.7.2)\n",
            "Installing collected packages: find-libpython, neuron\n",
            "Successfully installed find-libpython-0.4.0 neuron-8.2.4\n"
          ]
        }
      ],
      "source": [
        "%pip install neuron # only need to run this cell once to install\n",
        "                    # neuron in the local jupyter environment"
      ]
    },
    {
      "cell_type": "markdown",
      "metadata": {
        "id": "F9jlFF1qV2Ik"
      },
      "source": [
        "We also need to compile a file used by NEURON to compute user-created membrane mechanisms more efficiently, called a [mod file](https://www.neuron.yale.edu/phpBB/viewtopic.php?t=3263). We'll use it for the final part of the exercise, but we need to compile it here before importing neuron.\n",
        "\n",
        "**Make sure to run this cell before importing neuron in the cell's below, otherwise the mechanism won't be loaded into our environment and we'll get errors later on.**"
      ]
    },
    {
      "cell_type": "code",
      "execution_count": null,
      "metadata": {
        "id": "cTZYk9iaV2Ik",
        "outputId": "d22e1939-d8ba-4ffb-c65d-4bb21c345b3e",
        "colab": {
          "base_uri": "https://localhost:8080/"
        }
      },
      "outputs": [
        {
          "output_type": "stream",
          "name": "stdout",
          "text": [
            "/content/CompModNervSys-LIFneuron\n",
            "Mod files: \"mechanisms/mechanisms/spikeout.mod\"\n",
            "\n",
            "Creating 'x86_64' directory for .o files.\n",
            "\n",
            " -> \u001b[32mCompiling\u001b[0m mod_func.cpp\n",
            " -> \u001b[32mNMODL\u001b[0m ../mechanisms/spikeout.mod\n",
            "Translating spikeout.mod into /content/CompModNervSys-LIFneuron/x86_64/spikeout.c\n",
            "Thread Safe\n",
            " -> \u001b[32mCompiling\u001b[0m spikeout.c\n",
            " => \u001b[32mLINKING\u001b[0m shared library ./libnrnmech.so\n",
            " => \u001b[32mLINKING\u001b[0m executable ./special LDFLAGS are:    -pthread\n",
            "Successfully created x86_64/special\n"
          ]
        }
      ],
      "source": [
        "!nrnivmodl mechanisms # compiles additional membrane mechanism file (mod file) for LIF neuron"
      ]
    },
    {
      "cell_type": "markdown",
      "metadata": {
        "id": "aBasEsnnV2Ik"
      },
      "source": [
        "# Recapping basics of scripting in NEURON\n",
        "\n",
        "Below, we'll review the basic steps shown in the NEURON Python tutorial (Adapted from https://neuron.yale.edu/neuron/docs/scripting-neuron-basics)"
      ]
    },
    {
      "cell_type": "code",
      "execution_count": null,
      "metadata": {
        "id": "jQIMjuEgV2Ik"
      },
      "outputs": [],
      "source": [
        "from neuron import h # all NEURON hoc functions are accessed through h\n",
        "from neuron import gui # if you're running this notebook in a local environment (instead of on google colab), launches the GUI\n",
        "h.load_file('stdrun.hoc') # loads neuron standard hoc library, not always necessary\n",
        "import matplotlib.pyplot as plt\n",
        "import numpy as np\n",
        "\n"
      ]
    },
    {
      "cell_type": "markdown",
      "metadata": {
        "id": "HkmIiCbaV2Il"
      },
      "source": [
        "## Step 1: Create a cell"
      ]
    },
    {
      "cell_type": "code",
      "execution_count": null,
      "metadata": {
        "id": "IUQcNrkfV2Im"
      },
      "outputs": [],
      "source": [
        "# Create a single section we'll call 'soma'\n",
        "soma = h.Section(name='soma')"
      ]
    },
    {
      "cell_type": "markdown",
      "metadata": {
        "id": "_zTHSlmyV2Im"
      },
      "source": [
        "When we start to build neuron models with more than one section, a useful function is `h.topology()`, which displays the topological (tree-like) structure of all the sections we created in the model. This tells you how the *sections* are connected to each other and how many *segments* each section has. For our single section model, it's fairly simple, but you can use it to see what you've created so far.  "
      ]
    },
    {
      "cell_type": "code",
      "execution_count": null,
      "metadata": {
        "id": "SmaVMHdEV2Im",
        "outputId": "426fee8d-b4a7-40f1-a7cf-2c81290e14ef",
        "colab": {
          "base_uri": "https://localhost:8080/"
        }
      },
      "outputs": [
        {
          "output_type": "stream",
          "name": "stdout",
          "text": [
            "\n",
            "|-|       soma(0-1)\n",
            "\n"
          ]
        },
        {
          "output_type": "execute_result",
          "data": {
            "text/plain": [
              "1.0"
            ]
          },
          "metadata": {},
          "execution_count": 6
        }
      ],
      "source": [
        "h.topology()"
      ]
    },
    {
      "cell_type": "markdown",
      "metadata": {
        "id": "d9YwkuWfV2Im"
      },
      "source": [
        "A useful `method` (a function that can be called on an object) that exists for each NEURON section is the `psection` method. It returns a Python dictionary displaying the properties of a section."
      ]
    },
    {
      "cell_type": "code",
      "execution_count": null,
      "metadata": {
        "id": "F9dBIERaV2Im",
        "outputId": "016733ef-a73a-4b7e-e1ff-11fd33fa70c2",
        "colab": {
          "base_uri": "https://localhost:8080/"
        }
      },
      "outputs": [
        {
          "output_type": "execute_result",
          "data": {
            "text/plain": [
              "{'point_processes': {},\n",
              " 'density_mechs': {},\n",
              " 'ions': {},\n",
              " 'morphology': {'L': 100.0,\n",
              "  'diam': [500.0],\n",
              "  'pts3d': [],\n",
              "  'parent': None,\n",
              "  'trueparent': None},\n",
              " 'nseg': 1,\n",
              " 'Ra': 35.4,\n",
              " 'cm': [1.0],\n",
              " 'regions': set(),\n",
              " 'species': set(),\n",
              " 'name': 'soma',\n",
              " 'hoc_internal_name': '__nrnsec_0x5625c6e55480',\n",
              " 'cell': None}"
            ]
          },
          "metadata": {},
          "execution_count": 7
        }
      ],
      "source": [
        "soma.psection()"
      ]
    },
    {
      "cell_type": "markdown",
      "metadata": {
        "id": "eCHhMS6zV2Im"
      },
      "source": [
        "If you wanted to access, for example, the length of this section, you could use the `'morphology'` key and grab the value of `L`:"
      ]
    },
    {
      "cell_type": "code",
      "execution_count": null,
      "metadata": {
        "id": "VaWPNahgV2Im",
        "outputId": "ce705eaa-bb1a-42b0-b572-e9323ed8a371",
        "colab": {
          "base_uri": "https://localhost:8080/"
        }
      },
      "outputs": [
        {
          "output_type": "stream",
          "name": "stdout",
          "text": [
            "L = 100.0\n"
          ]
        }
      ],
      "source": [
        "print('L = {}'.format(soma.psection()['morphology']['L']))"
      ]
    },
    {
      "cell_type": "markdown",
      "metadata": {
        "id": "bScZAyRDV2In"
      },
      "source": [
        "<font color='red'> <b><i>Q1</b></i>: By inspecting the output of psection, what are the default values NEURON assigned to length, diameter, and cm? The default units for all these quantities can be found <a href=\"https://www.neuron.yale.edu/neuron/static/docs/units/unitchart.html \">here</a> </font>"
      ]
    },
    {
      "cell_type": "markdown",
      "source": [
        "\n",
        "\n",
        "* length: $100.0 µm$\n",
        "* diameter: $500.0 µm$\n",
        "* cm: $1.0 µf/cm^{2}$\n",
        "\n"
      ],
      "metadata": {
        "id": "Dr9m8DJhWeCS"
      }
    },
    {
      "cell_type": "markdown",
      "metadata": {
        "id": "rW20Nu8AV2In"
      },
      "source": [
        "It's usually more efficient to grab some of these values directly, e.g., you can access a section and set it's value directly using dot notation:"
      ]
    },
    {
      "cell_type": "code",
      "execution_count": null,
      "metadata": {
        "id": "A-AxMEL4V2In",
        "outputId": "f2a3f0f9-a6a9-4091-e25a-2d09f396a19c",
        "colab": {
          "base_uri": "https://localhost:8080/"
        }
      },
      "outputs": [
        {
          "output_type": "execute_result",
          "data": {
            "text/plain": [
              "100.0"
            ]
          },
          "metadata": {},
          "execution_count": 9
        }
      ],
      "source": [
        "soma.L"
      ]
    },
    {
      "cell_type": "markdown",
      "metadata": {
        "id": "uISHu3sCV2In"
      },
      "source": [
        "## Step 2: Set the cell's morphological (geometrical) properties\n",
        "\n",
        "Set the soma's diameter (`diam`) and length (`L`) to $20 \\mu m$. Use `psection` to check that the values have been updated."
      ]
    },
    {
      "cell_type": "code",
      "execution_count": null,
      "metadata": {
        "id": "NGY6MJtUV2In",
        "outputId": "589a91e2-d95f-4fa0-abf0-9dbc3e1916f0",
        "colab": {
          "base_uri": "https://localhost:8080/"
        }
      },
      "outputs": [
        {
          "output_type": "stream",
          "name": "stdout",
          "text": [
            "L = 20.0, diam = [20.0]\n"
          ]
        }
      ],
      "source": [
        "soma.diam = 20.0\n",
        "soma.L = 20.0\n",
        "\n",
        "print('L = {}, diam = {}'.format(soma.psection()['morphology']['L'],soma.psection()['morphology']['diam']))"
      ]
    },
    {
      "cell_type": "markdown",
      "metadata": {
        "id": "NIBFx2BVV2In"
      },
      "source": [
        "We'll also specify that this section has a single segment using `nseg`"
      ]
    },
    {
      "cell_type": "code",
      "execution_count": null,
      "metadata": {
        "id": "zYGwlPAKV2In"
      },
      "outputs": [],
      "source": [
        "soma.nseg = 1"
      ]
    },
    {
      "cell_type": "markdown",
      "metadata": {
        "id": "XjWUPPKqV2Io"
      },
      "source": [
        "You can also probe objects with Python's built in `dir()` function, e.g. for the soma:"
      ]
    },
    {
      "cell_type": "code",
      "execution_count": null,
      "metadata": {
        "id": "wk9fJSH5V2Io",
        "outputId": "6b9c0007-b3b2-407f-96b7-6384acac50ae",
        "colab": {
          "base_uri": "https://localhost:8080/"
        }
      },
      "outputs": [
        {
          "output_type": "execute_result",
          "data": {
            "text/plain": [
              "['L',\n",
              " 'Ra',\n",
              " '__call__',\n",
              " '__class__',\n",
              " '__contains__',\n",
              " '__delattr__',\n",
              " '__dir__',\n",
              " '__doc__',\n",
              " '__eq__',\n",
              " '__format__',\n",
              " '__ge__',\n",
              " '__getattribute__',\n",
              " '__gt__',\n",
              " '__hash__',\n",
              " '__init__',\n",
              " '__init_subclass__',\n",
              " '__iter__',\n",
              " '__le__',\n",
              " '__lt__',\n",
              " '__module__',\n",
              " '__ne__',\n",
              " '__new__',\n",
              " '__reduce__',\n",
              " '__reduce_ex__',\n",
              " '__repr__',\n",
              " '__setattr__',\n",
              " '__sizeof__',\n",
              " '__str__',\n",
              " '__subclasshook__',\n",
              " 'allseg',\n",
              " 'arc3d',\n",
              " 'cell',\n",
              " 'children',\n",
              " 'connect',\n",
              " 'diam3d',\n",
              " 'disconnect',\n",
              " 'has_membrane',\n",
              " 'hname',\n",
              " 'hoc_internal_name',\n",
              " 'insert',\n",
              " 'is_pysec',\n",
              " 'n3d',\n",
              " 'name',\n",
              " 'nseg',\n",
              " 'orientation',\n",
              " 'parentseg',\n",
              " 'psection',\n",
              " 'pt3dadd',\n",
              " 'pt3dchange',\n",
              " 'pt3dclear',\n",
              " 'pt3dinsert',\n",
              " 'pt3dremove',\n",
              " 'pt3dstyle',\n",
              " 'push',\n",
              " 'rallbranch',\n",
              " 'same',\n",
              " 'spine3d',\n",
              " 'subtree',\n",
              " 'trueparentseg',\n",
              " 'uninsert',\n",
              " 'wholetree',\n",
              " 'x3d',\n",
              " 'y3d',\n",
              " 'z3d']"
            ]
          },
          "metadata": {},
          "execution_count": 12
        }
      ],
      "source": [
        "dir(soma)"
      ]
    },
    {
      "cell_type": "markdown",
      "metadata": {
        "id": "pfywW2dQV2Io"
      },
      "source": [
        "You can also do this to see all the functions, variables, etc. available in NEURON's `h` submodule, which allows us to access NEURON's `hoc` interpreter (basically like the backend). We'll use `textwrap` as in the NEURON Python tutorial to make the display a little cleaner"
      ]
    },
    {
      "cell_type": "code",
      "execution_count": null,
      "metadata": {
        "id": "_PZ9jer9V2Io",
        "outputId": "bdb7fde7-b18a-4798-8a03-f090acd04f30",
        "colab": {
          "base_uri": "https://localhost:8080/"
        }
      },
      "outputs": [
        {
          "output_type": "stream",
          "name": "stdout",
          "text": [
            "APCount, AlphaSynapse, AtolTool, AtolToolItem, Avogadro_constant,\n",
            "BBSaveState, CVode, DEG, Deck, E, ExecCommand, Exp2Syn, ExpSyn,\n",
            "FARADAY, FInitializeHandler, Family, File, GAMMA, GUIMath, Glyph,\n",
            "Graph, HBox, IClamp, Impedance, Inserter, IntFire1, IntFire2,\n",
            "IntFire4, KSChan, KSGate, KSState, KSTrans, L, LinearMechanism, List,\n",
            "Matrix, MechanismStandard, MechanismType, MenuExplore, NEURONMainMenu,\n",
            "NetCon, NetStim, NumericalMethodPanel, OClamp, PHI, PI, PPShape,\n",
            "PWManager, ParallelContext, PatternStim, Plot, PlotShape,\n",
            "PointBrowser, PointProcessLocator, PointProcessManager,\n",
            "PointProcessMark, Pointer, PtrVector, PythonObject, R, Ra, Random,\n",
            "RangeVarPlot, SEClamp, SaveState, Section, SectionBrowser,\n",
            "SectionList, SectionRef, Shape, ShapeBrowser, ShapeLocation,\n",
            "SingleChan, SpikeOut, StateTransitionEvent, String, StringFunctions,\n",
            "SymChooser, TQueue, TextEditor, Timer, VBox, VClamp, ValueFieldEditor,\n",
            "Vector, WindowGroup, WindowGroupItem, WindowGroupManager, WindowMenu,\n",
            "__abs__, __add__, __bool__, __call__, __class__, __delattr__,\n",
            "__delitem__, __dir__, __doc__, __eq__, __format__, __ge__,\n",
            "__getattribute__, __getitem__, __gt__, __hash__, __init__,\n",
            "__init_subclass__, __iter__, __le__, __len__, __lt__, __module__,\n",
            "__mul__, __ne__, __neg__, __new__, __next__, __pos__, __radd__,\n",
            "__reduce__, __reduce_ex__, __repr__, __rmul__, __rsub__, __rtruediv__,\n",
            "__setattr__, __setitem__, __setstate__, __sizeof__, __str__, __sub__,\n",
            "__subclasshook__, __truediv__, _pysec, abs, access, addplot, advance,\n",
            "allobjects, allobjectvars, allsec, arc3d, area, argtype, atan, atan2,\n",
            "attr_praxis, axis, baseattr, batch_run, batch_save, begintemplate,\n",
            "boolean_dialog, break, buildmenu, capacitance, cas, case,\n",
            "cbimportmenu, celsius, celsius_panel, channel_builder, chdir,\n",
            "checkpoint, clamp_resist, classname, clipboard_file, clipboard_get,\n",
            "clipboard_retrieve, clipboard_save, clipboard_set, cm, cnt, connect,\n",
            "continue, continue_dialog, continuerun, coredump_on_error,\n",
            "coreneuronrunning_, cos, create, cvode, cvode_active, cvode_local,\n",
            "cvode_simgraph, debug, default_dll_loaded_, define_shape, delete,\n",
            "delete_section, depvar, diam, diam3d, diam_changed, dik_dv_, dina_dv_,\n",
            "disconnect, distance, distmechmenu, distmechviewers, doEvents,\n",
            "doNotify, double, dt, e_extracellular, e_fastpas, e_pas, ek, el_hh,\n",
            "else, ena, endtemplate, eps_IntFire4, eqinit, eqn, erf, erfc,\n",
            "eventcount, eventslow, execerror, execute, execute1, exp, external,\n",
            "extracellular, fadvance, fast_flush_list, fastflushPlot, fastpas,\n",
            "fclamp, fclampi, fclampv, fcurrent, finitialize, fit_praxis,\n",
            "fittingmenu, float_epsilon, flushPlot, flush_list, fmatrix, fmenu,\n",
            "for, forall, forsec, fprint, frecord_init, fscan, fstim, fstimi, fsyn,\n",
            "fsyng, fsyni, func, g_fastpas, g_pas, getSpineArea, getcwd, getstr,\n",
            "ghk, gk_hh, gkbar_hh, gl_hh, global_ra, globalra_panel, gna_hh,\n",
            "gnabar_hh, graph, graphItem, graphList, graph_menu_remove_most,\n",
            "graphmenu, graphmode, grefrac_SpikeOut, h_hh, help, helpmenu, hh,\n",
            "hinf_hh, hname, hoc_ac_, hoc_cross_x_, hoc_cross_y_, hoc_obj_,\n",
            "hoc_pointer_, hoc_sf_, hoc_stdout, hocobjptr, htau_hh, i, i_cap,\n",
            "i_membrane, i_membrane_, i_pas, ib_IntFire4, if, ifsec, ik, il_hh,\n",
            "impedancemenu, ina, init, initPlot, initnrn, insert,\n",
            "install_vector_fitness, int, ion_charge, ion_register, ion_style,\n",
            "ismembrane, issection, iterator, iterator_statement, itmp, ivoc_style,\n",
            "j, k_ion, keep_nseg_parm, ki, ki0_k_ion, ko, ko0_k_ion, lambda_f,\n",
            "libpython_path, load_file, load_func, load_proc, load_template, local,\n",
            "localobj, log, log10, lw, m_hh, machine_name, makeFamily,\n",
            "makeMenuExplore, makePointBrowser, make_mechanism, make_pointprocess,\n",
            "makeinserter, makeppm, mapped_nrnmainmenu_, mcell_ran4,\n",
            "mcell_ran4_init, minf_hh, miscellaneousmenu, morphology,\n",
            "movie_frame_dur_, movie_timer, movierun, movierunbox, movierunpanel,\n",
            "movierunsave, moviestep, mtau_hh, n3d, n_graph_lists, n_hh, na_ion,\n",
            "nai, nai0_na_ion, name_declared, nao, nao0_na_ion, nernst, neuronhome,\n",
            "new, newPlot, newPlotI, newPlotS, newPlotV, newcommand, newphaseplane,\n",
            "newshapeplot, newvectorplot, ninf_hh, nlayer_extracellular, node_data,\n",
            "nrn_feenableexcept, nrn_load_dll, nrn_mallinfo,\n",
            "nrn_netrec_state_adjust, nrn_shape_changed_, nrn_sparse_partrans,\n",
            "nrnallpointmenu, nrnallsectionmenu, nrncontrolmenu, nrnglobalmechmenu,\n",
            "nrniv_bind_thread, nrnmainmenu, nrnmainmenu_, nrnmechmenu,\n",
            "nrnmpi_init, nrnpointmenu, nrnpython, nrnsecmenu, nrnunit_use_legacy,\n",
            "nrnversion, nseg, nstep_steprun, ntau_hh, numarg,\n",
            "numericalmethodpanel, obfunc, object_id, object_index, object_pop,\n",
            "object_push, object_pushed, objectvar, objref, parallel,\n",
            "parent_connection, parent_node, parent_section, pas, plot, plotx,\n",
            "ploty, plt, pointmenu, pointprocessesmenu, pop_section, print,\n",
            "print_session, printf, prjnrn, prmat, proc, prstim, psection, pt3dadd,\n",
            "pt3dchange, pt3dclear, pt3dconst, pt3dinsert, pt3dremove, pt3dstyle,\n",
            "public, push_section, pval_praxis, pwman_place, pyobj, quit,\n",
            "rallbranch, rates_hh, read, realtime, ref, refrac_SpikeOut, regraph,\n",
            "retrieveaudit, return, ri, ropen, rtstart, run, runStopAt, runStopIn,\n",
            "runbutton, running_, same, save_session, saveaudit, screen_update,\n",
            "screen_update_invl, secname, secondorder, section_exists,\n",
            "section_orientation, section_owner, sectionname, setSpineArea, set_ra,\n",
            "set_v_init, setcolor, setdata_feature, setdata_hh, setdata_pas, setdt,\n",
            "setpointer, show_errmess_always, show_winio, sin, solve, spine3d,\n",
            "sprint, sqrt, sred, sscanf, startsw, stdinit, stdrun_quiet, step,\n",
            "steprun, steps_per_ms, stop, stop_praxis, stoppedrun, stoprun, stopsw,\n",
            "strcmp, strdef, string_dialog, symbols, system, t, tanh,\n",
            "taueps_IntFire4, temp_string2_, temp_string_, tempobj, tempobj2,\n",
            "tempstr1, tempstr2, this_node, this_section, thresh_SpikeOut, tobj,\n",
            "tobj1, toolmenu, topology, tstop, tstop_changed, tstr, uninsert,\n",
            "units, unix_mac_pc, use_mcell_ran4, using_cvode_, v, v_init,\n",
            "valid_name_syntax, variable_domain, vectormenu, vext,\n",
            "vrefrac_SpikeOut, vtrap_hh, while, windowmenu, wopen, x3d, xbutton,\n",
            "xc, xcheckbox, xfixedvalue, xg, xlabel, xmenu, xopen,\n",
            "xopen_broadcast_, xpanel, xpvalue, xradiobutton, xraxial, xred,\n",
            "xslider, xstatebutton, xvalue, xvarlabel, y3d, z3d\n"
          ]
        }
      ],
      "source": [
        "import textwrap\n",
        "print(textwrap.fill(', '.join(dir(h))))"
      ]
    },
    {
      "cell_type": "markdown",
      "metadata": {
        "id": "mdL4Q8EOV2Io"
      },
      "source": [
        "From the tutorial: \"(The <tt>', '.join(...)</tt> tells Python to build a string out of the list returned by <tt>dir</tt> where the items are separated from each other with a comma and a space. The <tt>textwrap.fill(...)</tt> tells Python to split long lines into multiple lines, by default a maximum of 70 characters long.)\""
      ]
    },
    {
      "cell_type": "markdown",
      "metadata": {
        "id": "iqpetr72V2Io"
      },
      "source": [
        "Getting help:\n",
        "\n",
        "You can also get help from the documentation (docstrings) using the `help()` function or prefacing the method/function with a question mark:"
      ]
    },
    {
      "cell_type": "code",
      "execution_count": null,
      "metadata": {
        "id": "HaW4rUFbV2Io",
        "outputId": "e349e8ed-0e7e-4a9e-ab0a-71b52b81b215",
        "colab": {
          "base_uri": "https://localhost:8080/"
        }
      },
      "outputs": [
        {
          "output_type": "stream",
          "name": "stdout",
          "text": [
            "Help on built-in function insert:\n",
            "\n",
            "insert(...) method of nrn.Section instance\n",
            "    section.insert(densityMechanismName) e.g. soma.insert('hh')\n",
            "\n"
          ]
        }
      ],
      "source": [
        "help(soma.insert)"
      ]
    },
    {
      "cell_type": "markdown",
      "metadata": {
        "id": "2iJzdmxWV2Io"
      },
      "source": [
        "## Step 3: Add membrane mechanisms\n",
        "\n",
        "Right now our section just a membrane capacitance with no resistance/conductance, so it looks like the circuit below\n",
        "\n",
        "<img src=\"https://raw.githubusercontent.com/CompModNervSystem/CompModNervSys-LIFneuron/main/resources/NEURON_circuit_cm.png\" alt=\"NEURON segment\" width=\"250\">"
      ]
    },
    {
      "cell_type": "markdown",
      "metadata": {
        "id": "4p-uAWReV2Io"
      },
      "source": [
        "To start adding *parallel* membrane conductances, we can use a section's `insert` method. We use this to insert *density* mechanisms, which are membrane mechanisms that allow us to distribute a conductance across a section and specify it's density in terms of conductance per unit area (or current per unit area).\n",
        "\n",
        "There are a few built in density mechanisms listed in the [scripting NEURON basics tutorial](https://neuron.yale.edu/neuron/docs/scripting-neuron-basics), shown again below here:\n",
        "\n",
        "<table border=\"1\" class=\"docutils\">\n",
        "<colgroup>\n",
        "<col width=\"26%\" />\n",
        "<col width=\"74%\"  />\n",
        "</colgroup>\n",
        "<tbody valign=\"top\">\n",
        "<tr class=\"row-odd\"><td><tt>pas</tt></td>\n",
        "<td>Passive (“leak”) channel.</td>\n",
        "</tr>\n",
        "<tr class=\"row-even\"><td><tt>extracellular</tt></td>\n",
        "<td>For simulating effects of nonzero extracellular\n",
        "potential, as may happen with leaky patch clamps,\n",
        "or detailed propertes of the myelin sheath.</td>\n",
        "</tr>\n",
        "<tr class=\"row-odd\"><td><tt>hh</tt></td>\n",
        "<td>Hodgkin-Huxley sodium, potassium, and leakage channels.</td>\n",
        "</tr>\n",
        "</tbody>\n",
        "</table>"
      ]
    },
    {
      "cell_type": "markdown",
      "metadata": {
        "id": "vTLE9lX1V2Ip"
      },
      "source": [
        "Thousands of additional mechanisms are available as part of published model codes on <a href=\"http://modeldb.yale.edu\">ModelDB</a>.\n",
        "\n",
        "Eventually we'll use these to model voltage-gated ion channel conductances, but for now we'll start with just a passive \"leak\" channel, giving us our leaky integrator from last class. The passive channel mechanism is called `pas`:"
      ]
    },
    {
      "cell_type": "code",
      "execution_count": null,
      "metadata": {
        "id": "ZeZ5SRPmV2Ip",
        "outputId": "dce98185-a28f-413e-a612-6a482bbf58b2",
        "colab": {
          "base_uri": "https://localhost:8080/"
        }
      },
      "outputs": [
        {
          "output_type": "execute_result",
          "data": {
            "text/plain": [
              "soma"
            ]
          },
          "metadata": {},
          "execution_count": 15
        }
      ],
      "source": [
        "soma.insert('pas')"
      ]
    },
    {
      "cell_type": "markdown",
      "metadata": {
        "id": "V-tIjDGYV2Ip"
      },
      "source": [
        "Using `psection` we can see what parameters this mechanism has. You'll see it's in the `'density_mechs'` dictionary for density mechanisms under `pas`"
      ]
    },
    {
      "cell_type": "code",
      "execution_count": null,
      "metadata": {
        "id": "5JXqqYkQV2Ip",
        "outputId": "c43456fb-35e9-439b-8f13-79c7ded3e6b3",
        "colab": {
          "base_uri": "https://localhost:8080/"
        }
      },
      "outputs": [
        {
          "output_type": "execute_result",
          "data": {
            "text/plain": [
              "{'g': [0.001], 'e': [-70.0], 'i': [0.0]}"
            ]
          },
          "metadata": {},
          "execution_count": 16
        }
      ],
      "source": [
        "soma.psection()\n",
        "\n",
        "soma.psection()['density_mechs']['pas']"
      ]
    },
    {
      "cell_type": "markdown",
      "metadata": {
        "id": "BanSkNUWV2Ip"
      },
      "source": [
        "You can see there are three parameters (keys in the dictionary): `g`, `e`, and `i`. The two parameters we can actually set are `g` and `e`, which are the conductance `g` (in $S/cm^2$) and reversal potential `e` (in $mV$) of this leak channel. `i` is just a variable displaying the current at this moment through this density mechanism, so we can't set it, but we could use it to record the current through this conductance if we wanted. So the circuit for our single compartment model now looks like this\n",
        "\n",
        "<img src=\"https://raw.githubusercontent.com/CompModNervSystem/CompModNervSys-LIFneuron/main/resources/NEURON_circuit_cm_pas.png\" alt=\"NEURON segment\" width=\"250\">"
      ]
    },
    {
      "cell_type": "markdown",
      "metadata": {
        "id": "3est8OWTV2Ip"
      },
      "source": [
        "To assign values to these parameters, we need to know a little more about how NEURON represents sections numerically.\n",
        "\n",
        "NEURON treats each section as a 1D cable, meaning it allows current flow along the cable (axial) and through the membrane (transverse/transmembrane). Sections are divided into equal size *segments* by setting the `nseg` parameter. You can then access variables like the voltage or passive conductance at any point along your section using the normalized position `x` along the section, which varies from 0 to 1. Remember, this is a numerical model so the values are only actually being solved for at the segment locations. NEURON then linearly interpolates values like voltage between the segment centers within each section. In general, `nseg` should be an odd number, which means accessing (`x = 0.5`) always gives the value at the middle of the section.\n",
        "\n",
        "We haven't discussed cable theory yet, so for now we'll stick to a single compartment model by setting `nseg=1`, which means the axial current flow can be ignored and the model behaves like a point neuron.\n",
        "\n",
        "To summarize, we access sections by their name and segments by some location on the section.\n",
        "\n",
        "* Section: ``section``\n",
        "* Segment: ``section(loc)``"
      ]
    },
    {
      "cell_type": "markdown",
      "metadata": {
        "id": "R_CruZTqV2Ip"
      },
      "source": [
        "Using the Python `type` function can tell us what a variable is:"
      ]
    },
    {
      "cell_type": "code",
      "execution_count": null,
      "metadata": {
        "id": "kHsOK0sQV2Ip",
        "outputId": "f1ef5a98-6d22-4aae-d579-2436e6acd447",
        "colab": {
          "base_uri": "https://localhost:8080/"
        }
      },
      "outputs": [
        {
          "output_type": "stream",
          "name": "stdout",
          "text": [
            "type(soma) = <class 'nrn.Section'>\n",
            "type(soma(0.5)) = <class 'nrn.Segment'>\n"
          ]
        }
      ],
      "source": [
        "print(\"type(soma) = {}\".format(type(soma)))\n",
        "print(\"type(soma(0.5)) = {}\".format(type(soma(0.5))))"
      ]
    },
    {
      "cell_type": "markdown",
      "metadata": {
        "id": "GYAMuEYiV2Ip"
      },
      "source": [
        "Segment variables follow the idiom:\n",
        "\n",
        "    section(loc).var\n",
        "\n",
        "And for mechanisms on the segment:\n",
        "\n",
        "    section(loc).mech.var\n",
        "\n",
        "or\n",
        "\n",
        "    section(loc).var_mech\n",
        "\n",
        "The first form is preferred."
      ]
    },
    {
      "cell_type": "markdown",
      "metadata": {
        "id": "XZ0fymyKV2Iq"
      },
      "source": [
        "Okay now that we got through all that, use the passive leak channel to model a neuron with a specific membrane resistance $R_{m} = 33 k \\Omega/cm^{2}$, reversal potential $E_{rev}=-65 mV$ and specific membrane capacitance $c_{m} = 1 \\mu F/cm^{2}$. Remember the relationship between *resistance* and *conductance*. And if you want to use the last idiom (`var_mech`), the mechanism in this case is `pas`."
      ]
    },
    {
      "cell_type": "code",
      "execution_count": null,
      "metadata": {
        "id": "UW554tSnV2Iq"
      },
      "outputs": [],
      "source": [
        "soma(0.5).pas.g = 1/33e3 # S/cm^2, where g = 1/R\n",
        "soma(0.5).pas.e = -65 # mV"
      ]
    },
    {
      "cell_type": "markdown",
      "metadata": {
        "id": "gay0WqExV2Iq"
      },
      "source": [
        "Another useful variable we can now access is the `area` parameter, which tells us the surface area of a segment within our section. We already set the length `L` and diameter `diam` above, so now let's see what surface area that gave us. NEURON outputs the area in $\\mu m^{2}$"
      ]
    },
    {
      "cell_type": "code",
      "execution_count": null,
      "metadata": {
        "id": "PddfXAj1V2Iq",
        "outputId": "ac8a5989-8463-40e7-db10-ea6ef4754827",
        "colab": {
          "base_uri": "https://localhost:8080/"
        }
      },
      "outputs": [
        {
          "output_type": "execute_result",
          "data": {
            "text/plain": [
              "1256.6370614359173"
            ]
          },
          "metadata": {},
          "execution_count": 19
        }
      ],
      "source": [
        "soma(0.5).area()"
      ]
    },
    {
      "cell_type": "markdown",
      "metadata": {
        "id": "XDflI4_zV2Iq"
      },
      "source": [
        "## Step 4: Insert a stimulus\n",
        "\n",
        "We can add a current injection (also known as a current *clamp* because it clamps the current to the value we decide. This is done with the `IClamp` object, which is a `hoc` object, so we have to access through the `h` submodule. `IClamp` just requires us to specify the *segment* in which we want to insert it. This is a type of *Point Process*, which are just point sources of current. To insert it to the middle segment (our only segment in this case) of the soma, we use:"
      ]
    },
    {
      "cell_type": "code",
      "execution_count": null,
      "metadata": {
        "id": "MotNCpNcV2Iq"
      },
      "outputs": [],
      "source": [
        "iclamp = h.IClamp(soma(0.5))"
      ]
    },
    {
      "cell_type": "markdown",
      "metadata": {
        "id": "HFLFEXTPV2Is"
      },
      "source": [
        "Below we'll use `dir` to look at the methods and parameters built into `IClamp`"
      ]
    },
    {
      "cell_type": "code",
      "execution_count": null,
      "metadata": {
        "id": "o77tOJVkV2Is",
        "outputId": "eb33e7a4-4473-49f6-8b2d-45304b7873fd",
        "colab": {
          "base_uri": "https://localhost:8080/"
        }
      },
      "outputs": [
        {
          "output_type": "stream",
          "name": "stdout",
          "text": [
            "['amp', 'baseattr', 'delay', 'dur', 'get_loc', 'get_segment', 'has_loc', 'hname', 'hocobjptr', 'i', 'loc', 'same']\n"
          ]
        }
      ],
      "source": [
        "print([item for item in dir(iclamp) if not item.startswith('__')])"
      ]
    },
    {
      "cell_type": "markdown",
      "metadata": {
        "id": "0hniluUdV2Is"
      },
      "source": [
        "The three main properties we'll want to set should be familiar from last exercise:\n",
        "\n",
        "`amp` - the amplitude in $nA$\n",
        "\n",
        "`delay` - the time the current stimulus turns on in $ms$\n",
        "\n",
        "`dur` - the duration the current stimulus is held at `amp` (stays on) in $ms$\n",
        "\n",
        "Below, set the delay to $5 \\; ms$, the duration to $20 \\; ms$, and the amplitude to $50 \\; pA$"
      ]
    },
    {
      "cell_type": "code",
      "execution_count": null,
      "metadata": {
        "id": "D3jMsT2kV2Is"
      },
      "outputs": [],
      "source": [
        "# your code goes here\n",
        "iclamp.amp = 50e-3 # nA\n",
        "iclamp.delay = 5 # ms\n",
        "iclamp.dur = 20 # ms"
      ]
    },
    {
      "cell_type": "markdown",
      "metadata": {
        "id": "9hRDSxw6V2Is"
      },
      "source": [
        "Another useful method is the `get_segment()` method, which outputs the segment the current clamp is inserted to. Try using it below:"
      ]
    },
    {
      "cell_type": "code",
      "execution_count": null,
      "metadata": {
        "id": "O4tlBuoWV2Is",
        "outputId": "6f7580c9-3f8b-45f7-9e5f-3fa98dd2688e",
        "colab": {
          "base_uri": "https://localhost:8080/"
        }
      },
      "outputs": [
        {
          "output_type": "execute_result",
          "data": {
            "text/plain": [
              "soma(0.5)"
            ]
          },
          "metadata": {},
          "execution_count": 23
        }
      ],
      "source": [
        "iclamp.get_segment()"
      ]
    },
    {
      "cell_type": "markdown",
      "metadata": {
        "id": "_s9hw8nTV2Is"
      },
      "source": [
        "Now when we use `psection` we can see the `IClamp` has been added to the model in the `point_processes` dictionary. Use it below to check"
      ]
    },
    {
      "cell_type": "code",
      "execution_count": null,
      "metadata": {
        "id": "UeAuPOehV2It",
        "outputId": "7091f838-bbea-4239-ce0a-144157b25bfe",
        "colab": {
          "base_uri": "https://localhost:8080/"
        }
      },
      "outputs": [
        {
          "output_type": "execute_result",
          "data": {
            "text/plain": [
              "{'point_processes': {'IClamp': {IClamp[0]}},\n",
              " 'density_mechs': {'pas': {'g': [3.0303030303030302e-05],\n",
              "   'e': [-65.0],\n",
              "   'i': [0.0]}},\n",
              " 'ions': {},\n",
              " 'morphology': {'L': 20.0,\n",
              "  'diam': [20.0],\n",
              "  'pts3d': [],\n",
              "  'parent': None,\n",
              "  'trueparent': None},\n",
              " 'nseg': 1,\n",
              " 'Ra': 35.4,\n",
              " 'cm': [1.0],\n",
              " 'regions': set(),\n",
              " 'species': set(),\n",
              " 'name': 'soma',\n",
              " 'hoc_internal_name': '__nrnsec_0x5625c6e55480',\n",
              " 'cell': None}"
            ]
          },
          "metadata": {},
          "execution_count": 24
        }
      ],
      "source": [
        "soma.psection()"
      ]
    },
    {
      "cell_type": "markdown",
      "metadata": {
        "id": "_AZkQRZJV2It"
      },
      "source": [
        "## Step 5: Add recording variables\n",
        "\n",
        "Now we could run a simulation but we wouldn't be able to see our output unless we were using NEURON's GUI to visualize the results. Even then, we wouldn't be able to use our simulation results to do any analysis. We can record variables during a simulation using NEURON's `Vector` class (`h.Vector`), which has a useful method called `record`. This class can be tricky to use. To specify a variable to record, we actually have to prefix it's name with `_ref_`. So to record the membrane potential at the soma `soma(0.5).v` and corresponding time points, which is always stored in a hoc variable `h.t` we use:"
      ]
    },
    {
      "cell_type": "code",
      "execution_count": null,
      "metadata": {
        "id": "jl16nVHqV2It",
        "outputId": "6a7a7ecf-924f-4b5d-e3d4-99a7ddec8026",
        "colab": {
          "base_uri": "https://localhost:8080/"
        }
      },
      "outputs": [
        {
          "output_type": "execute_result",
          "data": {
            "text/plain": [
              "Vector[4]"
            ]
          },
          "metadata": {},
          "execution_count": 25
        }
      ],
      "source": [
        "v = h.Vector() # create an empty vector to store voltage (mV)\n",
        "t = h.Vector() # create an empty vector to store time (ms)\n",
        "v.record(soma(0.5)._ref_v)\n",
        "t.record(h._ref_t)"
      ]
    },
    {
      "cell_type": "markdown",
      "metadata": {
        "id": "PSkXMhwnV2It"
      },
      "source": [
        "Try writing similar code to record the current delivered by our `IClamp`, which we saved to the python variable `iclamp`, below and save it in a vectort called `i_stim`."
      ]
    },
    {
      "cell_type": "code",
      "execution_count": null,
      "metadata": {
        "id": "F9NbnRHIV2It",
        "outputId": "29a5308f-6445-438d-8490-28041d105df5",
        "colab": {
          "base_uri": "https://localhost:8080/"
        }
      },
      "outputs": [
        {
          "output_type": "execute_result",
          "data": {
            "text/plain": [
              "Vector[5]"
            ]
          },
          "metadata": {},
          "execution_count": 26
        }
      ],
      "source": [
        "i_stim = h.Vector() # initialize current vector (nA)\n",
        "i_stim.record(iclamp._ref_i)"
      ]
    },
    {
      "cell_type": "markdown",
      "metadata": {
        "id": "6xGATQ8fV2It"
      },
      "source": [
        "## Step 6: Run the simulation\n",
        "\n",
        "Now we're almost ready to run. We just need to specify our initialization condition (initial voltage), simulation time step, and duration. By default, NEURON will integrate the differential equation describing our system using a different form of the Euler method we discussed called *Backward euler*, which is more stable and accurate. There are more advanced integration methods available (Crank-nicholson and variable time step methods), but this should be sufficient for our purposes.\n",
        "\n",
        "Let's use an initial voltage, set by `h.v_init` to our reversal potential, simulation duration, set by `h.tstop` to $20\\; ms$, and time step, step by `h.dt` to $0.1\\; ms$.  "
      ]
    },
    {
      "cell_type": "code",
      "execution_count": null,
      "metadata": {
        "id": "ELxIgfzcV2It"
      },
      "outputs": [],
      "source": [
        "# Set simulation parameters\n",
        "h.v_init = soma(0.5).pas.e # -65 mV\n",
        "h.tstop = 100 # ms\n",
        "h.dt = 0.1 # ms"
      ]
    },
    {
      "cell_type": "markdown",
      "metadata": {
        "id": "S3dWHxPXV2It"
      },
      "source": [
        "Okay, now we're finally ready to go. To run the simulation, we can use the `h.run()` NEURON function. The code cell below both runs the model and plots it using `matplotlib`, wrapped in a function called `run_and_plot_sim()`"
      ]
    },
    {
      "cell_type": "code",
      "execution_count": null,
      "metadata": {
        "id": "WkkWNB8WV2It",
        "outputId": "f1193474-3acd-4ce8-b14c-91e8778a82e0",
        "colab": {
          "base_uri": "https://localhost:8080/",
          "height": 467
        }
      },
      "outputs": [
        {
          "output_type": "stream",
          "name": "stdout",
          "text": [
            "Changed dt\n"
          ]
        },
        {
          "output_type": "display_data",
          "data": {
            "text/plain": [
              "<Figure size 640x480 with 2 Axes>"
            ],
            "image/png": "[encoded data removed]"
          },
          "metadata": {}
        }
      ],
      "source": [
        "def run_and_plot_sim(t,v,i_stim):\n",
        "    h.run()\n",
        "\n",
        "    # Plot results\n",
        "    fig = plt.figure()\n",
        "    ax = fig.add_subplot(211)\n",
        "    ax.plot(t,v)\n",
        "    ax.set_ylabel('V (mV)')\n",
        "    ax = fig.add_subplot(212)\n",
        "    ax.plot(t,i_stim*1e3)\n",
        "    ax.set_xlabel('time (ms)')\n",
        "    ax.set_ylabel('i (pA)')\n",
        "\n",
        "soma(0.5).pas.g = 1/33e3 # S/cm^2\n",
        "run_and_plot_sim(t,v,i_stim)"
      ]
    },
    {
      "cell_type": "markdown",
      "metadata": {
        "id": "LboO8DUmV2It"
      },
      "source": [
        "What happens if we set the passive conductance extremely low (effectively turning it off)? Try it and run/plot below with `run_and_plot_sim()`."
      ]
    },
    {
      "cell_type": "code",
      "execution_count": null,
      "metadata": {
        "id": "mvp6R1tyV2It",
        "outputId": "74eb2878-000f-43b7-efa9-069c270a2f8b",
        "colab": {
          "base_uri": "https://localhost:8080/",
          "height": 449
        }
      },
      "outputs": [
        {
          "output_type": "display_data",
          "data": {
            "text/plain": [
              "<Figure size 640x480 with 2 Axes>"
            ],
            "image/png": "[encoded data removed]"
          },
          "metadata": {}
        }
      ],
      "source": [
        "# set g_pas below\n",
        "soma(0.5).g_pas = 1e-7\n",
        "\n",
        "run_and_plot_sim(t,v,i_stim)"
      ]
    },
    {
      "cell_type": "markdown",
      "metadata": {
        "id": "dNae_Hm-V2Iu"
      },
      "source": [
        "<font color='red'>\n",
        "<b><i>Q2:</b></i> Describe what changed about the voltage dynamics and why, in terms of the model's electrical properties\n",
        "</font>"
      ]
    },
    {
      "cell_type": "markdown",
      "source": [
        "With low conductance (high resistance) in the leak channels, the change in membrane voltage is more linear when current is injected, and it becomes much slower to return to baseline."
      ],
      "metadata": {
        "id": "AVhtZ1nhggYO"
      }
    },
    {
      "cell_type": "markdown",
      "metadata": {
        "id": "bEqSY7hKV2Iu"
      },
      "source": [
        "# Simulating the Leaky integrate and fire model in Python\n",
        "\n",
        "So far, we've simulated the *passive* properties of neurons. But as we know, as soon as the membrane potential reaches a critical value, known as the *threshold*, neurons fire action potentials (or \"spikes\"). Next class, we'll start introducing the detailed model of the squid axon developed by Alan Hodgkin and Alduous Huxley in 1952, which has mostly held up for over 70 years. In the most basic terms, action potentials consist of a neuron's membrane voltage increasing due to inputs (whether from current injection or synapses), reaching a threshold, rapidly going to a high depolarized value, then returning back to the rest potential and being unable to fire for some period of time, termed the refractory period.\n",
        "\n",
        "People have modeled this \"phenomenologically\" for decades using the leaky integrate and fire neuron model, which simply adds a nonlinearity to this otherwise linear model. Whenever the voltage reaches a threshold (we define), we basically say the cell \"fired\", reset its potential to rest, and hold it there until the refractory period is over. Spikes are treated as an instantaneous event that's not actually captured by the voltage dynamics of the model. We could artificially force the voltage to a value of our choosing (say +40 mV), but typically people are more interested in the spike *timing* when using these models.\n",
        "\n",
        "The model the membrane is the same, we just add the rule described above to the integration scheme\n",
        "\n",
        "$\\frac{dV_{m}(t)}{dt} =  I(t)/C_{m} - \\frac{V_{m}(t) - V_{r}}{R_{m}C_{m}}$\n",
        "\n",
        "\n",
        "Since NEURON is made for biophysical neuron modeling, modeling the LIF neuron model is a little tricky. There's a built in model of integrate and fire neurons in NEURON ([here](https://www.neuron.yale.edu/neuron/static/py_doc/modelspec/programmatic/mechanisms/mech.html#IntFire4)), but the voltage at each point in time is hard to extract since NEURON's implementation uses the analytical solution for this model's voltage to speed up simulation and \"skip\" time points between action potentials.\n",
        "\n",
        "So below, I've included a version of this model I wrote in python. After that, I've included a version in NEURON that does the same thing, but  takes advantage of some more advanced functions that we won't cover just yet."
      ]
    },
    {
      "cell_type": "code",
      "execution_count": null,
      "metadata": {
        "id": "3EyPeoGBV2Iu"
      },
      "outputs": [],
      "source": [
        "def simLIFneuron(dt,tstop,V0,Rm,Cm,Vr,I,Vth,Vreset,refrac_per=2,AP_peak=40):\n",
        "    # dt - time step (ms)\n",
        "    # tstop - simulation duration/last time point (ms)\n",
        "    # V0 - initial membrane voltage (mV)\n",
        "    # Rm - membrane resistance (MOhm)\n",
        "    # Cm - membrane capacitance (nF)\n",
        "    # Vr - rest potential (mV)\n",
        "    # I - arbitrary current vector (nA)\n",
        "    # Vth - Threshold for AP firing (mV)\n",
        "    # refrac_per - refractory period (ms)\n",
        "    # AP_peak - peak AP value to set Vm after crossing threshold\n",
        "    t = np.arange(0,tstop+dt,dt) # time vector (ms)\n",
        "    spike_times = []\n",
        "    Vm = np.zeros(t.shape)\n",
        "    Vm[0] = V0\n",
        "    for i in range(0,len(t)-1):\n",
        "        dVm_dt = I[i]/Cm - (Vm[i] - Vr)/(Rm*Cm) # with I/Cm gives V/s (same as mV/ms) with I in nA, Cm in nF\n",
        "                                                     # Rm*Cm gives ms with Rm in MOhm and Cm in nF (1e6*1e-9 = 1e-3 sec)\n",
        "        if len(spike_times) > 0 and t[i+1] - spike_times[-1] < refrac_per:\n",
        "            Vm[i+1] = Vreset # Fix Vm at Vreset during refractory period\n",
        "        else:\n",
        "            Vm[i+1] = dt*dVm_dt + Vm[i] # normal evolution of Vm\n",
        "\n",
        "        if Vm[i+1] > Vth: # Vm crosses threshold for firing\n",
        "            Vm[i+1] = Vreset # set Vm back to Vreset\n",
        "            spike_times.append(t[i+1])\n",
        "\n",
        "    return Vm,t,spike_times\n",
        "\n",
        "def genCurrentPulse(dt,tstop,I_del,I_dur,I_amp):\n",
        "    t = np.arange(0,tstop+dt,dt) # time vector (ms)\n",
        "    I = np.zeros(t.shape) # A\n",
        "    I[np.logical_and(t > I_del, t <= I_del + I_dur)] = I_amp\n",
        "    return I, t"
      ]
    },
    {
      "cell_type": "markdown",
      "metadata": {
        "id": "2CQ3XLjWV2Iu"
      },
      "source": [
        "Make a function below to run and plot the output of these \"python\" simulations"
      ]
    },
    {
      "cell_type": "code",
      "execution_count": null,
      "metadata": {
        "id": "Yffkz_oKV2Iu"
      },
      "outputs": [],
      "source": [
        "def run_and_plot_LIFpy(dt,tstop,V0,Rm,Cm,Vr,Vth,Vreset,I_del,I_dur,I_amp,refrac_per=2,AP_peak=40):\n",
        "\n",
        "    I,_ = genCurrentPulse(dt,tstop,I_del,I_dur,I_amp) # generate current vector\n",
        "\n",
        "    Vm,t,spike_times = simLIFneuron(dt,tstop,V0,Rm,Cm,Vr,I,Vth,Vreset,refrac_per,AP_peak) # simulate!\n",
        "\n",
        "    fig = plt.figure()\n",
        "    ax = fig.add_subplot(3,1,(1,2))\n",
        "    ax.plot(t,Vm)\n",
        "    ax.vlines(spike_times,Vm.min(),AP_peak,colors='r')\n",
        "    ax.set_ylabel('V (mV)')\n",
        "    ax = fig.add_subplot(313)\n",
        "    ax.plot(t,I*1e3)\n",
        "    ax.set_xlabel('time (ms)')\n",
        "    ax.set_ylabel('i (pA)')\n",
        "    plt.tight_layout(h_pad=1.1)\n",
        "\n",
        "    return Vm, spike_times, I, t"
      ]
    },
    {
      "cell_type": "markdown",
      "metadata": {
        "id": "kNSLqrUKV2Iu"
      },
      "source": [
        "Now, let's simulate a case of constant current injection into the model we started building earlier in NEURON. We modeled a cylinder with a $20 \\mu m$ diameter and $20 \\mu m$ length.\n",
        "\n",
        "Again, we'll use a specific membrane resistance $R_{m} = 33 k \\Omega \\cdot cm^{2}$, reversal potential $E_{rev}=-65 mV$ and specific membrane capacitance $c_{m} = 1 \\mu F/cm^{2}$. You may notice, the surface area of a cylinder with diameter $diam$ and length $L$ equal to its diameter (which we used in NEURON) is the same as a sphere with the same diameter (which we modeled in previous exercises). This doesn't include the surface area of the caps, which aren't represented in the cable model. So, you can use either case to calculate the surface area for the model and you should get the same surface area as we got earlier.\n",
        "\n",
        "Apply a constant $50 \\; pA$ current injection starting at $5 \\; ms$, this time for $100 \\; ms$, and end your simulation at $150 \\; ms$. Set the initial voltage to the rest potential.\n",
        "\n",
        "For the LIF neuron model, we'll use a threshold of $-40 \\; mV$, a refractory period of $4 \\; ms$, a reset potential of our rest potential, and peak AP of $40 \\; mV$ (this latter parameter doesn't matter and is pretty much just for visualization)."
      ]
    },
    {
      "cell_type": "code",
      "execution_count": null,
      "metadata": {
        "id": "t3T8tyQFV2Iu",
        "outputId": "32ff14fa-3ba2-47b7-f600-9b7f4642cd14",
        "colab": {
          "base_uri": "https://localhost:8080/",
          "height": 504
        }
      },
      "outputs": [
        {
          "output_type": "stream",
          "name": "stdout",
          "text": [
            "# of APs = 9\n"
          ]
        },
        {
          "output_type": "display_data",
          "data": {
            "text/plain": [
              "<Figure size 640x480 with 2 Axes>"
            ],
            "image/png": "[encoded data removed]"
          },
          "metadata": {}
        }
      ],
      "source": [
        "# Model parameters\n",
        "A = soma(0.5).area() * 1e-8 # cm^2 = um^2^-4 = um^-8\n",
        "Rm = 33e-3 / A # MOhm * cm^2, div by A to isolate resistance\n",
        "Cm = 1e3 * A # nF / cm^2, times A to isolate capacitance\n",
        "Vr = -65 # mV\n",
        "\n",
        "V0 = Vr # mV\n",
        "Vth = -40 # mV\n",
        "Vreset = Vr # mV\n",
        "refrac_per = 4 # ms\n",
        "AP_peak = 40 # mV\n",
        "\n",
        "# Stimulation parameters\n",
        "I_del = 5 # ms\n",
        "I_dur = 100 # ms\n",
        "I_amp = 0.05 # nA\n",
        "\n",
        "# Simulation parameters\n",
        "dt = 0.1 # ms\n",
        "tstop = 150 # ms\n",
        "\n",
        "Vm, spike_times, I, t = run_and_plot_LIFpy(dt,tstop,V0,Rm,Cm,Vr,Vth,Vreset,I_del,I_dur,I_amp,refrac_per,AP_peak)\n",
        "\n",
        "print('# of APs = {}'.format(len(spike_times)))"
      ]
    },
    {
      "cell_type": "markdown",
      "metadata": {
        "id": "eoFKoIrJV2Iu"
      },
      "source": [
        "<font color='red'>\n",
        "<b><i>Q3:</b></i> How does the refractory period impact the peak firing frequency of the neuron? What would you expect this frequency to be for our choice of 4 ms refractory period?\n",
        "</font>"
      ]
    },
    {
      "cell_type": "markdown",
      "metadata": {
        "id": "W3q4xS8iV2Iu"
      },
      "source": [
        "In general, the refractory period is inversely proportional to firing frequency, so the absolute highest firing rate for a 4ms refractor period is 250Hz. However, we also have to account for the time it takes for the neuron to go from $V_{reset}$ to $V_{threshold}$, hence we get far fewer events than this maximum possible."
      ]
    },
    {
      "cell_type": "markdown",
      "metadata": {
        "id": "pUud39OhV2Iu"
      },
      "source": [
        "# Simulating the Leaky integrate and fire model in NEURON\n",
        "\n",
        "To simulate the LIF neuron with its spiking mechanism in NEURON, we'll use a class I created called `LIFcell`. It includes all the relevant methods to generate the cell and store recordings. We'll use it below to do the same thing, but using the NEURON simulator instead. At the moment, it may not be obvious why we'd want to do this if we already have a Python implementation, but as we'll see, if you want to add new membrane conductances or connect neurons up into networks with synapses, NEURON's functionality will become really powerful."
      ]
    },
    {
      "cell_type": "code",
      "execution_count": null,
      "metadata": {
        "id": "lBHxZCXUV2Iv",
        "colab": {
          "base_uri": "https://localhost:8080/"
        },
        "outputId": "83edba39-c469-484f-acad-5d1d15bd191f"
      },
      "outputs": [
        {
          "output_type": "stream",
          "name": "stdout",
          "text": [
            "\n",
            "|-|       LIF[0].soma(0-1)\n",
            "\n"
          ]
        },
        {
          "output_type": "execute_result",
          "data": {
            "text/plain": [
              "1.0"
            ]
          },
          "metadata": {},
          "execution_count": 40
        }
      ],
      "source": [
        "from LIFcell import LIFcell\n",
        "\n",
        "# Delete old sections\n",
        "soma = None\n",
        "for sec in h.allsec():\n",
        "    h.delete_section(sec=sec)\n",
        "\n",
        "# Create cell\n",
        "cell = LIFcell(0)\n",
        "cell._setup_recordings() # reinitalize recordings\n",
        "\n",
        "h.topology() # check that our new cell exists"
      ]
    },
    {
      "cell_type": "code",
      "execution_count": null,
      "metadata": {
        "id": "aFiTcVfiV2Iv",
        "outputId": "8a48a90a-688b-4f93-9a8e-e735892671e9",
        "colab": {
          "base_uri": "https://localhost:8080/"
        }
      },
      "outputs": [
        {
          "output_type": "execute_result",
          "data": {
            "text/plain": [
              "Vector[14]"
            ]
          },
          "metadata": {},
          "execution_count": 41
        }
      ],
      "source": [
        "# Add stimulation\n",
        "iclamp = h.IClamp(cell.soma(0.5))\n",
        "\n",
        "# Set amplitude, delay (start time), and duration\n",
        "iclamp.amp = 0.05 # nA\n",
        "iclamp.delay = 5 # ms\n",
        "iclamp.dur = 100 # ms\n",
        "\n",
        "# Record current clamp again\n",
        "iclamp_rec = h.Vector()\n",
        "iclamp_rec.record(iclamp._ref_i)\n"
      ]
    },
    {
      "cell_type": "code",
      "execution_count": null,
      "metadata": {
        "id": "oKnz3kjuV2Iv"
      },
      "outputs": [],
      "source": [
        "def run_and_plot_LIFnrn(cell,i_stim):\n",
        "    h.run()\n",
        "    t = cell.t.to_python(np.zeros(len(cell.t)))  # convert to numpy arrays (not actually necessary for plotting)\n",
        "    v = cell.soma_v.to_python(np.zeros(len(cell.soma_v)))\n",
        "    spike_times = cell.spike_times.to_python(np.zeros(len(cell.spike_times))) # this one does need to be a numpy array\n",
        "    i_stim = i_stim.to_python(np.zeros(len(i_stim))) # same here, numpy arrays allows multiplying by scalar but NEURON Vectors don't\n",
        "    # Plot results\n",
        "    fig = plt.figure()\n",
        "    ax = fig.add_subplot(211)\n",
        "    ax.plot(t,v)\n",
        "    ax.vlines(spike_times,ymin=cell.soma(0.5).e_pas,ymax=40,colors='r')\n",
        "    ax.set_ylabel('V (mV)')\n",
        "    ax = fig.add_subplot(212)\n",
        "    ax.plot(t,i_stim*1e3)\n",
        "    ax.set_xlabel('time (ms)')\n",
        "    ax.set_ylabel('i (pA)')\n",
        "\n",
        "    return v, spike_times, i_stim, t\n",
        "\n"
      ]
    },
    {
      "cell_type": "code",
      "execution_count": null,
      "metadata": {
        "id": "9JSsGqRKV2Iv",
        "outputId": "fe111bf8-6ff2-4235-cc9a-48813a454d59",
        "colab": {
          "base_uri": "https://localhost:8080/",
          "height": 467
        }
      },
      "outputs": [
        {
          "output_type": "stream",
          "name": "stdout",
          "text": [
            "Changed dt\n"
          ]
        },
        {
          "output_type": "display_data",
          "data": {
            "text/plain": [
              "<Figure size 640x480 with 2 Axes>"
            ],
            "image/png": "[encoded data removed]"
          },
          "metadata": {}
        }
      ],
      "source": [
        "# Set simulation parameters\n",
        "h.dt = 0.1 # ms - time step\n",
        "h.v_init = cell.soma(0.5).e_pas # initial voltage (same as reversal potential)\n",
        "h.tstop = 150 # ms - simulation duration\n",
        "# Set the LIF model parameters\n",
        "h.thresh_SpikeOut = -40\t# (mV)\n",
        "h.refrac_SpikeOut = 4 # (ms)\n",
        "h.vrefrac_SpikeOut = cell.soma.e_pas # (mV) reset potential\n",
        "# Run and plot simulation\n",
        "\n",
        "v, spike_times, i_stim, t = run_and_plot_LIFnrn(cell,iclamp_rec)"
      ]
    },
    {
      "cell_type": "markdown",
      "metadata": {
        "id": "8VQQrLL5V2Iv"
      },
      "source": [
        "The results may not be identical due to the different integration methods, but they should be pretty close. Let's use NEURON to see how varying the strength of stimulation alters the firing frequency.\n",
        "\n",
        "Below, in a `for` loop, vary the current amplitude over a reasonable range and measure the average frequency (number of spikes divided by duration of the stimulus). Then, plot the frequency in $Hz$ vs. the current amplitude. This is what's called an *F-I* curve of frequency-input curve."
      ]
    },
    {
      "cell_type": "code",
      "execution_count": null,
      "metadata": {
        "id": "NJmr99vpV2Iv",
        "outputId": "0c7e7ad2-ca43-4a6a-8cc0-5e0d9c09d4b1",
        "colab": {
          "base_uri": "https://localhost:8080/",
          "height": 467
        }
      },
      "outputs": [
        {
          "output_type": "execute_result",
          "data": {
            "text/plain": [
              "Text(0, 0.5, 'AP frequency (Hz)')"
            ]
          },
          "metadata": {},
          "execution_count": 48
        },
        {
          "output_type": "display_data",
          "data": {
            "text/plain": [
              "<Figure size 640x480 with 1 Axes>"
            ],
            "image/png": "[encoded data removed]"
          },
          "metadata": {}
        }
      ],
      "source": [
        "# re-define function without plotting\n",
        "def run_without_plot_LIFnrn(cell,i_stim):\n",
        "    h.run()\n",
        "    t = cell.t.to_python(np.zeros(len(cell.t)))  # convert to numpy arrays (not actually necessary for plotting)\n",
        "    v = cell.soma_v.to_python(np.zeros(len(cell.soma_v)))\n",
        "    spike_times = cell.spike_times.to_python(np.zeros(len(cell.spike_times))) # this one does need to be a numpy array\n",
        "    i_stim = i_stim.to_python(np.zeros(len(i_stim))) # same here, numpy arrays allows multiplying by scalar but NEURON Vectors don't\n",
        "\n",
        "    return v, spike_times, i_stim, t\n",
        "\n",
        "# parameters\n",
        "num_amps = 100\n",
        "amps_start = 0 # nA\n",
        "amps_end = 0.2 # nA\n",
        "cell.soma(0.5).g_pas = 1/33e3 # S/cm^2\n",
        "\n",
        "# initialize output arrays\n",
        "avg_freqs = []\n",
        "ampstep = amps_end/num_amps\n",
        "\n",
        "amps = np.arange(amps_start,amps_end+ampstep,ampstep)\n",
        "\n",
        "for amp in amps:\n",
        "    iclamp.amp = amp # nA\n",
        "    _, spike_times, _, _ = run_without_plot_LIFnrn(cell,iclamp_rec)\n",
        "    avg_freq = 1000*len(spike_times) / iclamp.dur # convert to Hz\n",
        "    avg_freqs.append(avg_freq)\n",
        "\n",
        "fig = plt.figure()\n",
        "ax = fig.add_subplot(111)\n",
        "ax.plot(amps,avg_freqs)\n",
        "ax.set_xlabel('Current amplitude (nA)')\n",
        "ax.set_ylabel('AP frequency (Hz)')"
      ]
    },
    {
      "cell_type": "markdown",
      "metadata": {
        "id": "U0c97khgV2Iv"
      },
      "source": [
        "Now, try modifying the membrane resistance using `cell.soma(0.5).g_pas` to 0.2x and 5x the current value and overlaying the F-I curves of these three models on the same axes."
      ]
    },
    {
      "cell_type": "code",
      "execution_count": null,
      "metadata": {
        "id": "yKoNXnUGV2Iv",
        "outputId": "628f0472-7289-47c8-c991-179dd3844a18",
        "colab": {
          "base_uri": "https://localhost:8080/",
          "height": 467
        }
      },
      "outputs": [
        {
          "output_type": "execute_result",
          "data": {
            "text/plain": [
              "<matplotlib.legend.Legend at 0x7dce9eef4430>"
            ]
          },
          "metadata": {},
          "execution_count": 49
        },
        {
          "output_type": "display_data",
          "data": {
            "text/plain": [
              "<Figure size 640x480 with 1 Axes>"
            ],
            "image/png": "[encoded data removed]"
          },
          "metadata": {}
        }
      ],
      "source": [
        "# parameters\n",
        "num_amps = 100\n",
        "amps_start = 0 # nA\n",
        "amps_end = 0.2 # nA\n",
        "g_pas_base = 1/33e3\n",
        "g_pas_vals = [0.2*g_pas_base,g_pas_base,5*g_pas_base]\n",
        "\n",
        "# initialize output arrays\n",
        "freqs_by_pas = np.zeros((len(g_pas_vals),num_amps+1))\n",
        "ampstep = amps_end/num_amps\n",
        "amprange = np.arange(amps_start,amps_end+ampstep,ampstep)\n",
        "\n",
        "for i in range(0,len(g_pas_vals)):\n",
        "    cell.soma(0.5).g_pas = g_pas_vals[i]\n",
        "    avg_freqs = []\n",
        "    for j in range(0,len(amprange)):\n",
        "        iclamp.amp = amprange[j] # nA\n",
        "        _, spike_times, _, _ = run_without_plot_LIFnrn(cell,iclamp_rec)\n",
        "        avg_freq = 1000*len(spike_times) / iclamp.dur # convert to Hz\n",
        "        avg_freqs.append(avg_freq)\n",
        "    freqs_by_pas[i] = (avg_freqs)\n",
        "\n",
        "\n",
        "fig = plt.figure()\n",
        "ax = fig.add_subplot(111)\n",
        "for i in range(0,len(g_pas_vals)):\n",
        "    ax.plot(amprange,freqs_by_pas[i],label='conductivity = {:.2f} µS/cm^2'.format(g_pas_vals[i]*1e6))\n",
        "ax.set_xlabel('Current amplitude (nA)')\n",
        "ax.set_ylabel('AP frequency (Hz)')\n",
        "ax.legend()"
      ]
    },
    {
      "cell_type": "markdown",
      "metadata": {
        "id": "4UqufwHCV2Iv"
      },
      "source": [
        "<font color='red'>\n",
        "<b><i>Q4:</b></i> How does changing membrane resistance alter the F-I curve? What might this mean for the neuron's relative excitability in a network, i.e. how easily it can transmit actoin potentials?\n",
        "</font>"
      ]
    },
    {
      "cell_type": "markdown",
      "source": [
        "Decreasing the membrane resistance (i.e., increasing conductivity via g_pas) lowers the frequency of APs the cell will fire at a given amplitude of injected current, effectively decreasing its relative excitability. On a physical level, this makes sense because a higher passive conductivity means the cell can more effectively counteract injected currents, resulting in a slower accumulation of voltage change."
      ],
      "metadata": {
        "id": "h54gOhltiXH4"
      }
    }
  ],
  "metadata": {
    "colab": {
      "provenance": [],
      "include_colab_link": true
    },
    "kernelspec": {
      "display_name": "cmns_env",
      "language": "python",
      "name": "python3"
    },
    "language_info": {
      "codemirror_mode": {
        "name": "ipython",
        "version": 3
      },
      "file_extension": ".py",
      "mimetype": "text/x-python",
      "name": "python",
      "nbconvert_exporter": "python",
      "pygments_lexer": "ipython3",
      "version": "3.9.16"
    },
    "vscode": {
      "interpreter": {
        "hash": "d0488761690764cced0e7b1e141a742f06ea2f3fa8f54952eb1b54a94bfd6a2a"
      }
    }
  },
  "nbformat": 4,
  "nbformat_minor": 0
}